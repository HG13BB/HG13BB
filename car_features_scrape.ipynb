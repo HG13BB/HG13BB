{
 "cells": [
  {
   "cell_type": "markdown",
   "metadata": {},
   "source": [
    "This is a notebook that I have prepared to scrape safety data for selected cars from iihs.org. This is for a project that I am completing for my WGU masters program."
   ]
  },
  {
   "cell_type": "code",
   "execution_count": 1,
   "metadata": {},
   "outputs": [],
   "source": [
    "import pandas as pd\n",
    "from bs4 import BeautifulSoup\n",
    "import requests\n",
    "import os\n",
    "import re\n",
    "regexalpha = re.compile('[^a-zA-Z]') #get letters only"
   ]
  },
  {
   "cell_type": "code",
   "execution_count": 2,
   "metadata": {},
   "outputs": [],
   "source": [
    "#this cell can used for testing if data elements need to be added to the worksheet\n",
    "page = requests.get('https://www.iihs.org/ratings/vehicle/ford/escape-4-door-suv/2019')\n",
    "soup = BeautifulSoup(page.content,'html.parser')\n"
   ]
  },
  {
   "cell_type": "code",
   "execution_count": 3,
   "metadata": {},
   "outputs": [
    {
     "data": {
      "text/plain": [
       "'M'"
      ]
     },
     "execution_count": 3,
     "metadata": {},
     "output_type": "execute_result"
    }
   ],
   "source": [
    "main = soup.find_all(id='main-copy')[0]\n",
    "main.find_all(id='child-seat-anchors')[0].find_all(class_='rating-icon-block')[0].get_text()"
   ]
  },
  {
   "cell_type": "code",
   "execution_count": 12,
   "metadata": {},
   "outputs": [],
   "source": [
    "def get_safety_items(page_in, carname):\n",
    "    \n",
    "    page = requests.get(page_in)\n",
    "    \n",
    "    soup = BeautifulSoup(page.content,'html.parser')\n",
    "    \n",
    "    #main object containing rates\n",
    "    main = soup.find_all(id='main-copy')[0]\n",
    "    \n",
    "    #safety ratings\n",
    "    front_driver = main.find_all(id='small-overlap-front-driver-side')[0].find_all(class_='rating-icon-block')[0].get_text()\n",
    "    front_passenger = main.find_all(id='small-overlap-front-passenger-side')[0].find_all(class_='rating-icon-block')[0].get_text()\n",
    "    moderate_overlap_front = main.find_all(id='moderate-overlap-front')[0].find_all(class_='rating-icon-block')[0].get_text()\n",
    "    side = main.find_all(id='side')[0].find_all(class_='rating-icon-block')[0].get_text()\n",
    "    roof_strength = main.find_all(id='roof-strength')[0].find_all(class_='rating-icon-block')[0].get_text()\n",
    "    head_seats = main.find_all(id='head-restraints-and-seats')[0].find_all(class_='rating-icon-block')[0].get_text()\n",
    "    child_seat_anchors = main.find_all(id='child-seat-anchors')[0].find_all(class_='rating-icon-block')[0].get_text()\n",
    "    \n",
    "    cardict= {'car_name': carname, \"front_driver\": front_driver, \"front_passenger\": front_passenger,'moderate_overlap_front':moderate_overlap_front,\\\n",
    "           'side':side, 'roof_strength':roof_strength, 'head_seats':head_seats, 'child_seat_anchors':child_seat_anchors}\n",
    "    \n",
    "    return pd.DataFrame([list(cardict.values())], columns = cardict.keys())\n",
    "    "
   ]
  },
  {
   "cell_type": "code",
   "execution_count": 13,
   "metadata": {},
   "outputs": [
    {
     "data": {
      "text/html": [
       "<div>\n",
       "<style scoped>\n",
       "    .dataframe tbody tr th:only-of-type {\n",
       "        vertical-align: middle;\n",
       "    }\n",
       "\n",
       "    .dataframe tbody tr th {\n",
       "        vertical-align: top;\n",
       "    }\n",
       "\n",
       "    .dataframe thead th {\n",
       "        text-align: right;\n",
       "    }\n",
       "</style>\n",
       "<table border=\"1\" class=\"dataframe\">\n",
       "  <thead>\n",
       "    <tr style=\"text-align: right;\">\n",
       "      <th></th>\n",
       "      <th>car_name</th>\n",
       "      <th>front_driver</th>\n",
       "      <th>front_passenger</th>\n",
       "      <th>moderate_overlap_front</th>\n",
       "      <th>side</th>\n",
       "      <th>roof_strength</th>\n",
       "      <th>head_seats</th>\n",
       "      <th>child_seat_anchors</th>\n",
       "    </tr>\n",
       "  </thead>\n",
       "  <tbody>\n",
       "    <tr>\n",
       "      <th>0</th>\n",
       "      <td>ford_escape_2019</td>\n",
       "      <td>A</td>\n",
       "      <td>P</td>\n",
       "      <td>G</td>\n",
       "      <td>G</td>\n",
       "      <td>G</td>\n",
       "      <td>G</td>\n",
       "      <td>M</td>\n",
       "    </tr>\n",
       "  </tbody>\n",
       "</table>\n",
       "</div>"
      ],
      "text/plain": [
       "           car_name front_driver front_passenger moderate_overlap_front side  \\\n",
       "0  ford_escape_2019            A               P                      G    G   \n",
       "\n",
       "  roof_strength head_seats child_seat_anchors  \n",
       "0             G          G                  M  "
      ]
     },
     "execution_count": 13,
     "metadata": {},
     "output_type": "execute_result"
    }
   ],
   "source": [
    "ford_escape_2019_sfty = get_safety_items('https://www.iihs.org/ratings/vehicle/ford/escape-4-door-suv/2019', 'ford_escape_2019')\n",
    "ford_escape_2019_sfty"
   ]
  },
  {
   "cell_type": "code",
   "execution_count": 6,
   "metadata": {},
   "outputs": [
    {
     "data": {
      "text/html": [
       "<div>\n",
       "<style scoped>\n",
       "    .dataframe tbody tr th:only-of-type {\n",
       "        vertical-align: middle;\n",
       "    }\n",
       "\n",
       "    .dataframe tbody tr th {\n",
       "        vertical-align: top;\n",
       "    }\n",
       "\n",
       "    .dataframe thead th {\n",
       "        text-align: right;\n",
       "    }\n",
       "</style>\n",
       "<table border=\"1\" class=\"dataframe\">\n",
       "  <thead>\n",
       "    <tr style=\"text-align: right;\">\n",
       "      <th></th>\n",
       "      <th>car_name</th>\n",
       "      <th>front_driver</th>\n",
       "      <th>front_passenger</th>\n",
       "      <th>moderate_overlap_front</th>\n",
       "      <th>side</th>\n",
       "      <th>roof_strength</th>\n",
       "      <th>head_seats</th>\n",
       "      <th>child_seat_anchors</th>\n",
       "    </tr>\n",
       "  </thead>\n",
       "  <tbody>\n",
       "    <tr>\n",
       "      <th>0</th>\n",
       "      <td>toy_rav4_2019</td>\n",
       "      <td>G</td>\n",
       "      <td>G</td>\n",
       "      <td>G</td>\n",
       "      <td>G</td>\n",
       "      <td>G</td>\n",
       "      <td>G</td>\n",
       "      <td>G</td>\n",
       "    </tr>\n",
       "  </tbody>\n",
       "</table>\n",
       "</div>"
      ],
      "text/plain": [
       "        car_name front_driver front_passenger moderate_overlap_front side  \\\n",
       "0  toy_rav4_2019            G               G                      G    G   \n",
       "\n",
       "  roof_strength head_seats child_seat_anchors  \n",
       "0             G          G                  G  "
      ]
     },
     "execution_count": 6,
     "metadata": {},
     "output_type": "execute_result"
    }
   ],
   "source": [
    "toy_rav4_2019_sfty = get_safety_items('https://www.iihs.org/ratings/vehicle/Toyota/rav4-4-door-suv/2019','toy_rav4_2019')\n",
    "toy_rav4_2019_sfty"
   ]
  },
  {
   "cell_type": "code",
   "execution_count": 7,
   "metadata": {},
   "outputs": [
    {
     "data": {
      "text/html": [
       "<div>\n",
       "<style scoped>\n",
       "    .dataframe tbody tr th:only-of-type {\n",
       "        vertical-align: middle;\n",
       "    }\n",
       "\n",
       "    .dataframe tbody tr th {\n",
       "        vertical-align: top;\n",
       "    }\n",
       "\n",
       "    .dataframe thead th {\n",
       "        text-align: right;\n",
       "    }\n",
       "</style>\n",
       "<table border=\"1\" class=\"dataframe\">\n",
       "  <thead>\n",
       "    <tr style=\"text-align: right;\">\n",
       "      <th></th>\n",
       "      <th>car_name</th>\n",
       "      <th>front_driver</th>\n",
       "      <th>front_passenger</th>\n",
       "      <th>moderate_overlap_front</th>\n",
       "      <th>side</th>\n",
       "      <th>roof_strength</th>\n",
       "      <th>head_seats</th>\n",
       "      <th>child_seat_anchors</th>\n",
       "    </tr>\n",
       "  </thead>\n",
       "  <tbody>\n",
       "    <tr>\n",
       "      <th>0</th>\n",
       "      <td>hyundai_santafe_2019</td>\n",
       "      <td>G</td>\n",
       "      <td>G</td>\n",
       "      <td>G</td>\n",
       "      <td>G</td>\n",
       "      <td>G</td>\n",
       "      <td>G</td>\n",
       "      <td>A</td>\n",
       "    </tr>\n",
       "  </tbody>\n",
       "</table>\n",
       "</div>"
      ],
      "text/plain": [
       "               car_name front_driver front_passenger moderate_overlap_front  \\\n",
       "0  hyundai_santafe_2019            G               G                      G   \n",
       "\n",
       "  side roof_strength head_seats child_seat_anchors  \n",
       "0    G             G          G                  A  "
      ]
     },
     "execution_count": 7,
     "metadata": {},
     "output_type": "execute_result"
    }
   ],
   "source": [
    "hyu_santfe_2019_sfty= get_safety_items('https://www.iihs.org/ratings/vehicle/Hyundai/santa-fe-4-door-suv/2019', 'hyundai_santafe_2019')\n",
    "hyu_santfe_2019_sfty"
   ]
  },
  {
   "cell_type": "code",
   "execution_count": 8,
   "metadata": {},
   "outputs": [
    {
     "data": {
      "text/html": [
       "<div>\n",
       "<style scoped>\n",
       "    .dataframe tbody tr th:only-of-type {\n",
       "        vertical-align: middle;\n",
       "    }\n",
       "\n",
       "    .dataframe tbody tr th {\n",
       "        vertical-align: top;\n",
       "    }\n",
       "\n",
       "    .dataframe thead th {\n",
       "        text-align: right;\n",
       "    }\n",
       "</style>\n",
       "<table border=\"1\" class=\"dataframe\">\n",
       "  <thead>\n",
       "    <tr style=\"text-align: right;\">\n",
       "      <th></th>\n",
       "      <th>car_name</th>\n",
       "      <th>front_driver</th>\n",
       "      <th>front_passenger</th>\n",
       "      <th>moderate_overlap_front</th>\n",
       "      <th>side</th>\n",
       "      <th>roof_strength</th>\n",
       "      <th>head_seats</th>\n",
       "      <th>child_seat_anchors</th>\n",
       "    </tr>\n",
       "  </thead>\n",
       "  <tbody>\n",
       "    <tr>\n",
       "      <th>0</th>\n",
       "      <td>honda_crv_2019</td>\n",
       "      <td>G</td>\n",
       "      <td>G</td>\n",
       "      <td>G</td>\n",
       "      <td>G</td>\n",
       "      <td>G</td>\n",
       "      <td>G</td>\n",
       "      <td>A</td>\n",
       "    </tr>\n",
       "  </tbody>\n",
       "</table>\n",
       "</div>"
      ],
      "text/plain": [
       "         car_name front_driver front_passenger moderate_overlap_front side  \\\n",
       "0  honda_crv_2019            G               G                      G    G   \n",
       "\n",
       "  roof_strength head_seats child_seat_anchors  \n",
       "0             G          G                  A  "
      ]
     },
     "execution_count": 8,
     "metadata": {},
     "output_type": "execute_result"
    }
   ],
   "source": [
    "hond_crv_2019_sfty = get_safety_items('https://www.iihs.org/ratings/vehicle/Honda/cr-v-4-door-suv/2019','honda_crv_2019')\n",
    "hond_crv_2019_sfty"
   ]
  },
  {
   "cell_type": "code",
   "execution_count": 9,
   "metadata": {},
   "outputs": [
    {
     "data": {
      "text/html": [
       "<div>\n",
       "<style scoped>\n",
       "    .dataframe tbody tr th:only-of-type {\n",
       "        vertical-align: middle;\n",
       "    }\n",
       "\n",
       "    .dataframe tbody tr th {\n",
       "        vertical-align: top;\n",
       "    }\n",
       "\n",
       "    .dataframe thead th {\n",
       "        text-align: right;\n",
       "    }\n",
       "</style>\n",
       "<table border=\"1\" class=\"dataframe\">\n",
       "  <thead>\n",
       "    <tr style=\"text-align: right;\">\n",
       "      <th></th>\n",
       "      <th>car_name</th>\n",
       "      <th>front_driver</th>\n",
       "      <th>front_passenger</th>\n",
       "      <th>moderate_overlap_front</th>\n",
       "      <th>side</th>\n",
       "      <th>roof_strength</th>\n",
       "      <th>head_seats</th>\n",
       "      <th>child_seat_anchors</th>\n",
       "    </tr>\n",
       "  </thead>\n",
       "  <tbody>\n",
       "    <tr>\n",
       "      <th>0</th>\n",
       "      <td>honda_crv_2019</td>\n",
       "      <td>G</td>\n",
       "      <td>G</td>\n",
       "      <td>G</td>\n",
       "      <td>G</td>\n",
       "      <td>G</td>\n",
       "      <td>G</td>\n",
       "      <td>A</td>\n",
       "    </tr>\n",
       "    <tr>\n",
       "      <th>1</th>\n",
       "      <td>hyundai_santafe_2019</td>\n",
       "      <td>G</td>\n",
       "      <td>G</td>\n",
       "      <td>G</td>\n",
       "      <td>G</td>\n",
       "      <td>G</td>\n",
       "      <td>G</td>\n",
       "      <td>A</td>\n",
       "    </tr>\n",
       "    <tr>\n",
       "      <th>2</th>\n",
       "      <td>toy_rav4_2019</td>\n",
       "      <td>G</td>\n",
       "      <td>G</td>\n",
       "      <td>G</td>\n",
       "      <td>G</td>\n",
       "      <td>G</td>\n",
       "      <td>G</td>\n",
       "      <td>G</td>\n",
       "    </tr>\n",
       "    <tr>\n",
       "      <th>3</th>\n",
       "      <td>ford_escape_2019</td>\n",
       "      <td>A</td>\n",
       "      <td>P</td>\n",
       "      <td>G</td>\n",
       "      <td>G</td>\n",
       "      <td>G</td>\n",
       "      <td>G</td>\n",
       "      <td>M</td>\n",
       "    </tr>\n",
       "  </tbody>\n",
       "</table>\n",
       "</div>"
      ],
      "text/plain": [
       "               car_name front_driver front_passenger moderate_overlap_front  \\\n",
       "0        honda_crv_2019            G               G                      G   \n",
       "1  hyundai_santafe_2019            G               G                      G   \n",
       "2         toy_rav4_2019            G               G                      G   \n",
       "3      ford_escape_2019            A               P                      G   \n",
       "\n",
       "  side roof_strength head_seats child_seat_anchors  \n",
       "0    G             G          G                  A  \n",
       "1    G             G          G                  A  \n",
       "2    G             G          G                  G  \n",
       "3    G             G          G                  M  "
      ]
     },
     "execution_count": 9,
     "metadata": {},
     "output_type": "execute_result"
    }
   ],
   "source": [
    "cars = [hond_crv_2019_sfty, hyu_santfe_2019_sfty, toy_rav4_2019_sfty, ford_escape_2019_sfty]\n",
    "\n",
    "columns = hond_crv_2019_sfty.keys()\n",
    "car_safety_all = pd.DataFrame(columns = columns)\n",
    "\n",
    "for i in cars:\n",
    "    car_safety_all = car_safety_all.append(i)\n",
    "    \n",
    "car_safety_all = car_safety_all.reset_index()[columns]\n",
    "car_safety_all"
   ]
  },
  {
   "cell_type": "code",
   "execution_count": 10,
   "metadata": {},
   "outputs": [],
   "source": [
    "def conv_rating(rating):\n",
    "    #convert letter ratings to numbers\n",
    "    if rating == 'G':\n",
    "        return 4\n",
    "    if rating == 'A':\n",
    "        return 3\n",
    "    if rating == 'M':\n",
    "        return 1 \n",
    "    if rating == 'P':\n",
    "        return 0   \n",
    "    else:\n",
    "        return rating"
   ]
  },
  {
   "cell_type": "code",
   "execution_count": 11,
   "metadata": {},
   "outputs": [
    {
     "data": {
      "text/html": [
       "<div>\n",
       "<style scoped>\n",
       "    .dataframe tbody tr th:only-of-type {\n",
       "        vertical-align: middle;\n",
       "    }\n",
       "\n",
       "    .dataframe tbody tr th {\n",
       "        vertical-align: top;\n",
       "    }\n",
       "\n",
       "    .dataframe thead th {\n",
       "        text-align: right;\n",
       "    }\n",
       "</style>\n",
       "<table border=\"1\" class=\"dataframe\">\n",
       "  <thead>\n",
       "    <tr style=\"text-align: right;\">\n",
       "      <th></th>\n",
       "      <th>car_name</th>\n",
       "      <th>front_driver</th>\n",
       "      <th>front_passenger</th>\n",
       "      <th>moderate_overlap_front</th>\n",
       "      <th>side</th>\n",
       "      <th>roof_strength</th>\n",
       "      <th>head_seats</th>\n",
       "      <th>child_seat_anchors</th>\n",
       "    </tr>\n",
       "  </thead>\n",
       "  <tbody>\n",
       "    <tr>\n",
       "      <th>0</th>\n",
       "      <td>honda_crv_2019</td>\n",
       "      <td>4</td>\n",
       "      <td>4</td>\n",
       "      <td>4</td>\n",
       "      <td>4</td>\n",
       "      <td>4</td>\n",
       "      <td>4</td>\n",
       "      <td>3</td>\n",
       "    </tr>\n",
       "    <tr>\n",
       "      <th>1</th>\n",
       "      <td>hyundai_santafe_2019</td>\n",
       "      <td>4</td>\n",
       "      <td>4</td>\n",
       "      <td>4</td>\n",
       "      <td>4</td>\n",
       "      <td>4</td>\n",
       "      <td>4</td>\n",
       "      <td>3</td>\n",
       "    </tr>\n",
       "    <tr>\n",
       "      <th>2</th>\n",
       "      <td>toy_rav4_2019</td>\n",
       "      <td>4</td>\n",
       "      <td>4</td>\n",
       "      <td>4</td>\n",
       "      <td>4</td>\n",
       "      <td>4</td>\n",
       "      <td>4</td>\n",
       "      <td>4</td>\n",
       "    </tr>\n",
       "    <tr>\n",
       "      <th>3</th>\n",
       "      <td>ford_escape_2019</td>\n",
       "      <td>3</td>\n",
       "      <td>0</td>\n",
       "      <td>4</td>\n",
       "      <td>4</td>\n",
       "      <td>4</td>\n",
       "      <td>4</td>\n",
       "      <td>1</td>\n",
       "    </tr>\n",
       "  </tbody>\n",
       "</table>\n",
       "</div>"
      ],
      "text/plain": [
       "               car_name  front_driver  front_passenger  \\\n",
       "0        honda_crv_2019             4                4   \n",
       "1  hyundai_santafe_2019             4                4   \n",
       "2         toy_rav4_2019             4                4   \n",
       "3      ford_escape_2019             3                0   \n",
       "\n",
       "   moderate_overlap_front  side  roof_strength  head_seats  child_seat_anchors  \n",
       "0                       4     4              4           4                   3  \n",
       "1                       4     4              4           4                   3  \n",
       "2                       4     4              4           4                   4  \n",
       "3                       4     4              4           4                   1  "
      ]
     },
     "execution_count": 11,
     "metadata": {},
     "output_type": "execute_result"
    }
   ],
   "source": [
    "#convert letter ratings to numbers\n",
    "for i in car_safety_all.columns[1:]:\n",
    "    car_safety_all[i] = car_safety_all[i].apply(conv_rating)\n",
    "    \n",
    "car_safety_all"
   ]
  },
  {
   "cell_type": "code",
   "execution_count": null,
   "metadata": {},
   "outputs": [],
   "source": []
  }
 ],
 "metadata": {
  "kernelspec": {
   "display_name": "Python 3",
   "language": "python",
   "name": "python3"
  },
  "language_info": {
   "codemirror_mode": {
    "name": "ipython",
    "version": 3
   },
   "file_extension": ".py",
   "mimetype": "text/x-python",
   "name": "python",
   "nbconvert_exporter": "python",
   "pygments_lexer": "ipython3",
   "version": "3.7.0"
  }
 },
 "nbformat": 4,
 "nbformat_minor": 2
}
